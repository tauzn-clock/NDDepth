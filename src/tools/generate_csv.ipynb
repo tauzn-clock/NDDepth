{
 "cells": [
  {
   "cell_type": "code",
   "execution_count": 1,
   "metadata": {},
   "outputs": [],
   "source": [
    "import os\n",
    "import re\n",
    "import csv\n",
    "from pathlib import Path\n",
    "import random"
   ]
  },
  {
   "cell_type": "code",
   "execution_count": 2,
   "metadata": {},
   "outputs": [],
   "source": [
    "DIR_PATH = \"/scratchdata/nyu_depth_v2/sync\"\n",
    "pattern = re.compile(r'\\.jpg$')\n",
    "data = []\n",
    "\n",
    "focal = 518.8579\n",
    "fx = focal\n",
    "fy = focal\n",
    "cx = 325.5824\n",
    "cy = 253.7362\n",
    "\n",
    "for sub_dir in os.listdir(DIR_PATH):\n",
    "    if os.path.isfile(os.path.join(DIR_PATH,sub_dir)): continue\n",
    "    for file in os.listdir(os.path.join(DIR_PATH,sub_dir)):\n",
    "        if pattern.search(file):\n",
    "            depth = re.sub(\"rgb\", \"sync_depth\", file)\n",
    "            depth = re.sub(\"jpg\", \"png\", depth)\n",
    "\n",
    "            normal = re.sub(\"rgb\", \"sync_normal\", file)\n",
    "            normal = re.sub(\"jpg\", \"png\", normal)\n",
    "\n",
    "            data_entry = [os.path.join(sub_dir,file), os.path.join(sub_dir,depth), os.path.join(sub_dir,normal), fx, fy, cx, cy]\n",
    "            data.append(data_entry)"
   ]
  },
  {
   "cell_type": "code",
   "execution_count": 3,
   "metadata": {},
   "outputs": [],
   "source": [
    "random.seed(42)\n",
    "random.shuffle(data)\n",
    "train = data[:int(0.8*len(data))]\n",
    "test = data[int(0.8*len(data)):]"
   ]
  },
  {
   "cell_type": "code",
   "execution_count": 4,
   "metadata": {},
   "outputs": [],
   "source": [
    "with open(os.path.join(DIR_PATH, \"train.csv\"), mode='w', newline='') as file:\n",
    "    writer = csv.writer(file)\n",
    "    writer.writerows(train)  # Write each row in the array\n",
    "with open(os.path.join(DIR_PATH, \"test.csv\"), mode='w', newline='') as file:\n",
    "    writer = csv.writer(file)\n",
    "    writer.writerows(test)  # Write each row in the array"
   ]
  }
 ],
 "metadata": {
  "kernelspec": {
   "display_name": "Python 3",
   "language": "python",
   "name": "python3"
  },
  "language_info": {
   "codemirror_mode": {
    "name": "ipython",
    "version": 3
   },
   "file_extension": ".py",
   "mimetype": "text/x-python",
   "name": "python",
   "nbconvert_exporter": "python",
   "pygments_lexer": "ipython3",
   "version": "3.10.12"
  }
 },
 "nbformat": 4,
 "nbformat_minor": 2
}
