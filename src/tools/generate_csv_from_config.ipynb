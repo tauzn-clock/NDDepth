{
 "cells": [
  {
   "cell_type": "code",
   "execution_count": 1,
   "metadata": {},
   "outputs": [],
   "source": [
    "import csv\n",
    "import re"
   ]
  },
  {
   "cell_type": "code",
   "execution_count": 2,
   "metadata": {},
   "outputs": [],
   "source": [
    "focal = 518.8579\n",
    "fx = focal\n",
    "fy = focal\n",
    "cx = 325.5824\n",
    "cy = 253.7362\n",
    "depth_scale = 1000\n",
    "depth_max = 10\n",
    "\n",
    "#Open the file and store in data\n",
    "data = []\n",
    "with open('/NDDepth/Estimation/data_splits/nyudepthv2_train_files_with_gt_dense.txt', 'r') as f:\n",
    "    csv_reader = csv.reader(f, delimiter=\" \")    \n",
    "    # Iterate over each row in the CSV\n",
    "    for row in csv_reader:\n",
    "        row += [fx, fy, cx, cy, depth_scale, depth_max]\n",
    "        row[2] = re.sub(\"depth\",\"normal\",row[1])\n",
    "        data.append(row)\n",
    "\n",
    "with open(\"/NDDepth/src/nyu_train.csv\", mode='w', newline='') as file:\n",
    "    writer = csv.writer(file, delimiter=',')\n",
    "    writer.writerows(data)  # Write each row in the array\n",
    "\n",
    "#Open the file and store in data\n",
    "data = []\n",
    "with open('/NDDepth/Estimation/data_splits/nyudepthv2_test_files_with_gt.txt', 'r') as f:\n",
    "    csv_reader = csv.reader(f, delimiter=\" \")\n",
    "    \n",
    "    # Iterate over each row in the CSV\n",
    "    for row in csv_reader:\n",
    "        row += [fx, fy, cx, cy, depth_scale, depth_max]\n",
    "        row[2] = re.sub(\"depth\",\"normal\",row[1])\n",
    "        data.append(row)\n",
    "\n",
    "with open(\"/NDDepth/src/nyu_test.csv\", mode='w', newline='') as file:\n",
    "    writer = csv.writer(file, delimiter=',')\n",
    "    writer.writerows(data)  # Write each row in the array"
   ]
  }
 ],
 "metadata": {
  "kernelspec": {
   "display_name": "Python 3",
   "language": "python",
   "name": "python3"
  },
  "language_info": {
   "codemirror_mode": {
    "name": "ipython",
    "version": 3
   },
   "file_extension": ".py",
   "mimetype": "text/x-python",
   "name": "python",
   "nbconvert_exporter": "python",
   "pygments_lexer": "ipython3",
   "version": "3.10.12"
  }
 },
 "nbformat": 4,
 "nbformat_minor": 2
}
